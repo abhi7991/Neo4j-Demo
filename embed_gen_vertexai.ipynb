{
 "cells": [
  {
   "cell_type": "code",
   "execution_count": 2,
   "metadata": {},
   "outputs": [
    {
     "data": {
      "text/plain": [
       "True"
      ]
     },
     "execution_count": 2,
     "metadata": {},
     "output_type": "execute_result"
    }
   ],
   "source": [
    "\n",
    "import pandas as pd\n",
    "import vertexai\n",
    "import os\n",
    "from dotenv import load_dotenv\n",
    "import pickle\n",
    "load_dotenv()"
   ]
  },
  {
   "cell_type": "code",
   "execution_count": 2,
   "metadata": {},
   "outputs": [
    {
     "name": "stderr",
     "output_type": "stream",
     "text": [
      "/var/folders/d9/7kl5np_95hz69s_vwscxrc8r0000gn/T/ipykernel_80377/2940964563.py:1: DtypeWarning: Columns (10) have mixed types. Specify dtype option on import or set low_memory=False.\n",
      "  data = pd.read_csv(\"data/movies_metadata.csv\")\n"
     ]
    },
    {
     "data": {
      "text/html": [
       "<div>\n",
       "<style scoped>\n",
       "    .dataframe tbody tr th:only-of-type {\n",
       "        vertical-align: middle;\n",
       "    }\n",
       "\n",
       "    .dataframe tbody tr th {\n",
       "        vertical-align: top;\n",
       "    }\n",
       "\n",
       "    .dataframe thead th {\n",
       "        text-align: right;\n",
       "    }\n",
       "</style>\n",
       "<table border=\"1\" class=\"dataframe\">\n",
       "  <thead>\n",
       "    <tr style=\"text-align: right;\">\n",
       "      <th></th>\n",
       "      <th>adult</th>\n",
       "      <th>belongs_to_collection</th>\n",
       "      <th>budget</th>\n",
       "      <th>genres</th>\n",
       "      <th>homepage</th>\n",
       "      <th>id</th>\n",
       "      <th>imdb_id</th>\n",
       "      <th>original_language</th>\n",
       "      <th>original_title</th>\n",
       "      <th>overview</th>\n",
       "      <th>...</th>\n",
       "      <th>release_date</th>\n",
       "      <th>revenue</th>\n",
       "      <th>runtime</th>\n",
       "      <th>spoken_languages</th>\n",
       "      <th>status</th>\n",
       "      <th>tagline</th>\n",
       "      <th>title</th>\n",
       "      <th>video</th>\n",
       "      <th>vote_average</th>\n",
       "      <th>vote_count</th>\n",
       "    </tr>\n",
       "  </thead>\n",
       "  <tbody>\n",
       "    <tr>\n",
       "      <th>0</th>\n",
       "      <td>False</td>\n",
       "      <td>{'id': 10194, 'name': 'Toy Story Collection', ...</td>\n",
       "      <td>30000000</td>\n",
       "      <td>[{'id': 16, 'name': 'Animation'}, {'id': 35, '...</td>\n",
       "      <td>http://toystory.disney.com/toy-story</td>\n",
       "      <td>862</td>\n",
       "      <td>tt0114709</td>\n",
       "      <td>en</td>\n",
       "      <td>Toy Story</td>\n",
       "      <td>Led by Woody, Andy's toys live happily in his ...</td>\n",
       "      <td>...</td>\n",
       "      <td>1995-10-30</td>\n",
       "      <td>373554033.0</td>\n",
       "      <td>81.0</td>\n",
       "      <td>[{'iso_639_1': 'en', 'name': 'English'}]</td>\n",
       "      <td>Released</td>\n",
       "      <td>NaN</td>\n",
       "      <td>Toy Story</td>\n",
       "      <td>False</td>\n",
       "      <td>7.7</td>\n",
       "      <td>5415.0</td>\n",
       "    </tr>\n",
       "    <tr>\n",
       "      <th>1</th>\n",
       "      <td>False</td>\n",
       "      <td>NaN</td>\n",
       "      <td>65000000</td>\n",
       "      <td>[{'id': 12, 'name': 'Adventure'}, {'id': 14, '...</td>\n",
       "      <td>NaN</td>\n",
       "      <td>8844</td>\n",
       "      <td>tt0113497</td>\n",
       "      <td>en</td>\n",
       "      <td>Jumanji</td>\n",
       "      <td>When siblings Judy and Peter discover an encha...</td>\n",
       "      <td>...</td>\n",
       "      <td>1995-12-15</td>\n",
       "      <td>262797249.0</td>\n",
       "      <td>104.0</td>\n",
       "      <td>[{'iso_639_1': 'en', 'name': 'English'}, {'iso...</td>\n",
       "      <td>Released</td>\n",
       "      <td>Roll the dice and unleash the excitement!</td>\n",
       "      <td>Jumanji</td>\n",
       "      <td>False</td>\n",
       "      <td>6.9</td>\n",
       "      <td>2413.0</td>\n",
       "    </tr>\n",
       "    <tr>\n",
       "      <th>2</th>\n",
       "      <td>False</td>\n",
       "      <td>{'id': 119050, 'name': 'Grumpy Old Men Collect...</td>\n",
       "      <td>0</td>\n",
       "      <td>[{'id': 10749, 'name': 'Romance'}, {'id': 35, ...</td>\n",
       "      <td>NaN</td>\n",
       "      <td>15602</td>\n",
       "      <td>tt0113228</td>\n",
       "      <td>en</td>\n",
       "      <td>Grumpier Old Men</td>\n",
       "      <td>A family wedding reignites the ancient feud be...</td>\n",
       "      <td>...</td>\n",
       "      <td>1995-12-22</td>\n",
       "      <td>0.0</td>\n",
       "      <td>101.0</td>\n",
       "      <td>[{'iso_639_1': 'en', 'name': 'English'}]</td>\n",
       "      <td>Released</td>\n",
       "      <td>Still Yelling. Still Fighting. Still Ready for...</td>\n",
       "      <td>Grumpier Old Men</td>\n",
       "      <td>False</td>\n",
       "      <td>6.5</td>\n",
       "      <td>92.0</td>\n",
       "    </tr>\n",
       "    <tr>\n",
       "      <th>3</th>\n",
       "      <td>False</td>\n",
       "      <td>NaN</td>\n",
       "      <td>16000000</td>\n",
       "      <td>[{'id': 35, 'name': 'Comedy'}, {'id': 18, 'nam...</td>\n",
       "      <td>NaN</td>\n",
       "      <td>31357</td>\n",
       "      <td>tt0114885</td>\n",
       "      <td>en</td>\n",
       "      <td>Waiting to Exhale</td>\n",
       "      <td>Cheated on, mistreated and stepped on, the wom...</td>\n",
       "      <td>...</td>\n",
       "      <td>1995-12-22</td>\n",
       "      <td>81452156.0</td>\n",
       "      <td>127.0</td>\n",
       "      <td>[{'iso_639_1': 'en', 'name': 'English'}]</td>\n",
       "      <td>Released</td>\n",
       "      <td>Friends are the people who let you be yourself...</td>\n",
       "      <td>Waiting to Exhale</td>\n",
       "      <td>False</td>\n",
       "      <td>6.1</td>\n",
       "      <td>34.0</td>\n",
       "    </tr>\n",
       "    <tr>\n",
       "      <th>4</th>\n",
       "      <td>False</td>\n",
       "      <td>{'id': 96871, 'name': 'Father of the Bride Col...</td>\n",
       "      <td>0</td>\n",
       "      <td>[{'id': 35, 'name': 'Comedy'}]</td>\n",
       "      <td>NaN</td>\n",
       "      <td>11862</td>\n",
       "      <td>tt0113041</td>\n",
       "      <td>en</td>\n",
       "      <td>Father of the Bride Part II</td>\n",
       "      <td>Just when George Banks has recovered from his ...</td>\n",
       "      <td>...</td>\n",
       "      <td>1995-02-10</td>\n",
       "      <td>76578911.0</td>\n",
       "      <td>106.0</td>\n",
       "      <td>[{'iso_639_1': 'en', 'name': 'English'}]</td>\n",
       "      <td>Released</td>\n",
       "      <td>Just When His World Is Back To Normal... He's ...</td>\n",
       "      <td>Father of the Bride Part II</td>\n",
       "      <td>False</td>\n",
       "      <td>5.7</td>\n",
       "      <td>173.0</td>\n",
       "    </tr>\n",
       "  </tbody>\n",
       "</table>\n",
       "<p>5 rows × 24 columns</p>\n",
       "</div>"
      ],
      "text/plain": [
       "   adult                              belongs_to_collection    budget  \\\n",
       "0  False  {'id': 10194, 'name': 'Toy Story Collection', ...  30000000   \n",
       "1  False                                                NaN  65000000   \n",
       "2  False  {'id': 119050, 'name': 'Grumpy Old Men Collect...         0   \n",
       "3  False                                                NaN  16000000   \n",
       "4  False  {'id': 96871, 'name': 'Father of the Bride Col...         0   \n",
       "\n",
       "                                              genres  \\\n",
       "0  [{'id': 16, 'name': 'Animation'}, {'id': 35, '...   \n",
       "1  [{'id': 12, 'name': 'Adventure'}, {'id': 14, '...   \n",
       "2  [{'id': 10749, 'name': 'Romance'}, {'id': 35, ...   \n",
       "3  [{'id': 35, 'name': 'Comedy'}, {'id': 18, 'nam...   \n",
       "4                     [{'id': 35, 'name': 'Comedy'}]   \n",
       "\n",
       "                               homepage     id    imdb_id original_language  \\\n",
       "0  http://toystory.disney.com/toy-story    862  tt0114709                en   \n",
       "1                                   NaN   8844  tt0113497                en   \n",
       "2                                   NaN  15602  tt0113228                en   \n",
       "3                                   NaN  31357  tt0114885                en   \n",
       "4                                   NaN  11862  tt0113041                en   \n",
       "\n",
       "                original_title  \\\n",
       "0                    Toy Story   \n",
       "1                      Jumanji   \n",
       "2             Grumpier Old Men   \n",
       "3            Waiting to Exhale   \n",
       "4  Father of the Bride Part II   \n",
       "\n",
       "                                            overview  ... release_date  \\\n",
       "0  Led by Woody, Andy's toys live happily in his ...  ...   1995-10-30   \n",
       "1  When siblings Judy and Peter discover an encha...  ...   1995-12-15   \n",
       "2  A family wedding reignites the ancient feud be...  ...   1995-12-22   \n",
       "3  Cheated on, mistreated and stepped on, the wom...  ...   1995-12-22   \n",
       "4  Just when George Banks has recovered from his ...  ...   1995-02-10   \n",
       "\n",
       "       revenue runtime                                   spoken_languages  \\\n",
       "0  373554033.0    81.0           [{'iso_639_1': 'en', 'name': 'English'}]   \n",
       "1  262797249.0   104.0  [{'iso_639_1': 'en', 'name': 'English'}, {'iso...   \n",
       "2          0.0   101.0           [{'iso_639_1': 'en', 'name': 'English'}]   \n",
       "3   81452156.0   127.0           [{'iso_639_1': 'en', 'name': 'English'}]   \n",
       "4   76578911.0   106.0           [{'iso_639_1': 'en', 'name': 'English'}]   \n",
       "\n",
       "     status                                            tagline  \\\n",
       "0  Released                                                NaN   \n",
       "1  Released          Roll the dice and unleash the excitement!   \n",
       "2  Released  Still Yelling. Still Fighting. Still Ready for...   \n",
       "3  Released  Friends are the people who let you be yourself...   \n",
       "4  Released  Just When His World Is Back To Normal... He's ...   \n",
       "\n",
       "                         title  video vote_average vote_count  \n",
       "0                    Toy Story  False          7.7     5415.0  \n",
       "1                      Jumanji  False          6.9     2413.0  \n",
       "2             Grumpier Old Men  False          6.5       92.0  \n",
       "3            Waiting to Exhale  False          6.1       34.0  \n",
       "4  Father of the Bride Part II  False          5.7      173.0  \n",
       "\n",
       "[5 rows x 24 columns]"
      ]
     },
     "execution_count": 2,
     "metadata": {},
     "output_type": "execute_result"
    }
   ],
   "source": [
    "data = pd.read_csv(\"data/movies_metadata.csv\")\n",
    "data.head()"
   ]
  },
  {
   "cell_type": "code",
   "execution_count": 3,
   "metadata": {},
   "outputs": [
    {
     "data": {
      "text/plain": [
       "\"When siblings Judy and Peter discover an enchanted board game that opens the door to a magical world, they unwittingly invite Alan -- an adult who's been trapped inside the game for 26 years -- into their living room. Alan's only hope for freedom is to finish the game, which proves risky as all three find themselves running from giant rhinoceroses, evil monkeys and other terrifying creatures.\""
      ]
     },
     "execution_count": 3,
     "metadata": {},
     "output_type": "execute_result"
    }
   ],
   "source": [
    "data.overview[1]"
   ]
  },
  {
   "cell_type": "code",
   "execution_count": 4,
   "metadata": {},
   "outputs": [
    {
     "data": {
      "text/plain": [
       "0"
      ]
     },
     "execution_count": 4,
     "metadata": {},
     "output_type": "execute_result"
    }
   ],
   "source": [
    "data.id.isna().sum()"
   ]
  },
  {
   "cell_type": "code",
   "execution_count": 5,
   "metadata": {},
   "outputs": [
    {
     "data": {
      "text/plain": [
       "954"
      ]
     },
     "execution_count": 5,
     "metadata": {},
     "output_type": "execute_result"
    }
   ],
   "source": [
    "data.overview.isna().sum()"
   ]
  },
  {
   "cell_type": "code",
   "execution_count": 6,
   "metadata": {},
   "outputs": [],
   "source": [
    "data.overview = data.overview.fillna(\"missing\")"
   ]
  },
  {
   "cell_type": "code",
   "execution_count": 7,
   "metadata": {},
   "outputs": [],
   "source": [
    "from utilss import authenticate, encode_text_to_embedding_batched, encode_texts_to_embeddings,generate_batches\n",
    "# from utilss import authenticate\n",
    "\n",
    "credentials = authenticate()"
   ]
  },
  {
   "cell_type": "code",
   "execution_count": 8,
   "metadata": {},
   "outputs": [],
   "source": [
    "vertexai.init(project=os.environ.get('PROJECT_ID'), location=os.environ.get('REGION'),credentials = credentials)"
   ]
  },
  {
   "cell_type": "code",
   "execution_count": 9,
   "metadata": {},
   "outputs": [
    {
     "data": {
      "text/plain": [
       "45466"
      ]
     },
     "execution_count": 9,
     "metadata": {},
     "output_type": "execute_result"
    }
   ],
   "source": [
    "len(data.overview.to_list())"
   ]
  },
  {
   "cell_type": "code",
   "execution_count": 10,
   "metadata": {},
   "outputs": [
    {
     "data": {
      "text/plain": [
       "0     Led by Woody, Andy's toys live happily in his ...\n",
       "1     When siblings Judy and Peter discover an encha...\n",
       "2     A family wedding reignites the ancient feud be...\n",
       "3     Cheated on, mistreated and stepped on, the wom...\n",
       "4     Just when George Banks has recovered from his ...\n",
       "5     Obsessive master thief, Neil McCauley leads a ...\n",
       "6     An ugly duckling having undergone a remarkable...\n",
       "7     A mischievous young boy, Tom Sawyer, witnesses...\n",
       "8     International action superstar Jean Claude Van...\n",
       "9     James Bond must unmask the mysterious head of ...\n",
       "10    Widowed U.S. president Andrew Shepherd, one of...\n",
       "11    When a lawyer shows up at the vampire's doorst...\n",
       "12    An outcast half-wolf risks his life to prevent...\n",
       "13    An all-star cast powers this epic look at Amer...\n",
       "14    Morgan Adams and her slave, William Shaw, are ...\n",
       "15    The life of the gambling paradise – Las Vegas ...\n",
       "16    Rich Mr. Dashwood dies, leaving his second wif...\n",
       "17    It's Ted the Bellhop's first night on the job....\n",
       "18    Summoned from an ashram in Tibet, Ace finds hi...\n",
       "19    A vengeful New York transit cop decides to ste...\n",
       "20    Chili Palmer is a Miami mobster who gets sent ...\n",
       "21    An agoraphobic psychologist and a female detec...\n",
       "22    Assassin Robert Rath arrives at a funeral to k...\n",
       "23    Harassed by classmates who won't accept his sh...\n",
       "24    Ben Sanderson, an alcoholic Hollywood screenwr...\n",
       "25    The evil Iago pretends to be friend of Othello...\n",
       "26    Waxing nostalgic about the bittersweet passage...\n",
       "27    This film adaptation of Jane Austen's last nov...\n",
       "28    A scientist in a surrealist society kidnaps ch...\n",
       "29    A provincial boy related to a Shanghai crime f...\n",
       "30    Former Marine Louanne Johnson lands a gig teac...\n",
       "31    In the year 2035, convict James Cole reluctant...\n",
       "32                                              missing\n",
       "33    Babe is a little pig who doesn't quite know hi...\n",
       "34    The story of the relationship between painter ...\n",
       "35    A justice drama based on a true story about a ...\n",
       "36    A young Russian boy, Thomas Minton, travels to...\n",
       "37    Identical 9-year-olds from very different back...\n",
       "38    Shallow, rich and socially successful Cher is ...\n",
       "39    A South-African preacher goes to search for hi...\n",
       "40    Shakespeare's Play transplanted into a 1930s s...\n",
       "41    Depicts a heist of old bills, retired from cir...\n",
       "42    An aspiring young physician, Robert Merivel fo...\n",
       "43    For nine generations an evil sorcerer has been...\n",
       "44    Susan wants to work in television and will the...\n",
       "45    Soon-to-be-wed graduate student Finn Dodd deve...\n",
       "46    Two homicide detectives are on a desperate hun...\n",
       "47    History comes gloriously to life in Disney's e...\n",
       "48    A prudish woman, working on tenure as a litera...\n",
       "49    Held in an L.A. interrogation room, Verbal Kin...\n",
       "Name: overview, dtype: object"
      ]
     },
     "execution_count": 10,
     "metadata": {},
     "output_type": "execute_result"
    }
   ],
   "source": [
    "data.overview[:50]"
   ]
  },
  {
   "cell_type": "code",
   "execution_count": 11,
   "metadata": {},
   "outputs": [
    {
     "name": "stdout",
     "output_type": "stream",
     "text": [
      "number of batches: 9094\n",
      "estimated time: 909.4000000000001\n"
     ]
    },
    {
     "name": "stderr",
     "output_type": "stream",
     "text": [
      "100%|██████████| 9094/9094 [2:08:48<00:00,  1.18it/s]   \n",
      "100%|██████████| 44/44 [01:07<00:00,  1.52s/it]\n"
     ]
    },
    {
     "name": "stdout",
     "output_type": "stream",
     "text": [
      "all batches done\n"
     ]
    },
    {
     "name": "stderr",
     "output_type": "stream",
     "text": [
      "100%|██████████| 45466/45466 [00:00<00:00, 2374703.95it/s]\n"
     ]
    }
   ],
   "source": [
    "embeddings = encode_text_to_embedding_batched(data.overview.to_list())\n",
    "\n",
    "# Create a dictionary with movie names as keys and embeddings as values\n",
    "embedding_dict = dict(zip(data.id.to_list(), embeddings))\n",
    "\n",
    "# Save the dictionary to a pickle file\n",
    "with open('movie_embeddings.pickle', 'wb') as f:\n",
    "    pickle.dump(embedding_dict, f)"
   ]
  },
  {
   "cell_type": "code",
   "execution_count": 12,
   "metadata": {},
   "outputs": [
    {
     "data": {
      "text/plain": [
       "(45341, 768)"
      ]
     },
     "execution_count": 12,
     "metadata": {},
     "output_type": "execute_result"
    }
   ],
   "source": [
    "embeddings.shape"
   ]
  },
  {
   "cell_type": "code",
   "execution_count": 14,
   "metadata": {},
   "outputs": [],
   "source": [
    "# embeddings[0]"
   ]
  },
  {
   "cell_type": "code",
   "execution_count": 15,
   "metadata": {},
   "outputs": [],
   "source": [
    "# import numpy as np\n",
    "# np.split(embeddings[0].flatten(),embeddings[0].shape[0])"
   ]
  },
  {
   "cell_type": "code",
   "execution_count": 20,
   "metadata": {},
   "outputs": [],
   "source": [
    "# Create a dictionary with movie names as keys and embeddings as values\n",
    "embedding_dict = dict(zip(data.title.to_list(), embeddings))\n",
    "\n",
    "# Save the dictionary to a pickle file\n",
    "with open('movie_embeddings.pickle', 'wb') as f:\n",
    "    pickle.dump(embedding_dict, f)"
   ]
  },
  {
   "cell_type": "code",
   "execution_count": 3,
   "metadata": {},
   "outputs": [
    {
     "name": "stdout",
     "output_type": "stream",
     "text": [
      "No embedding found for 'Toy Story'\n"
     ]
    }
   ],
   "source": [
    "with open('movie_embeddings.pickle', 'rb') as f:\n",
    "    embedding_dict = pickle.load(f)\n",
    "\n",
    "# Example: Accessing embedding for a movie name\n",
    "movie_name = 'Toy Story'\n",
    "embedding = embedding_dict.get(movie_name)\n",
    "\n",
    "if embedding is not None:\n",
    "    print(f\"Embedding for '{movie_name}': {embedding}\")\n",
    "else:\n",
    "    print(f\"No embedding found for '{movie_name}'\")"
   ]
  },
  {
   "cell_type": "code",
   "execution_count": 5,
   "metadata": {},
   "outputs": [],
   "source": [
    "# embedding_dict"
   ]
  },
  {
   "cell_type": "code",
   "execution_count": 9,
   "metadata": {},
   "outputs": [
    {
     "name": "stdout",
     "output_type": "stream",
     "text": [
      "Embedding for '862': [ 3.02489884e-02 -4.13589254e-02  9.56019200e-03  2.99868193e-02\n",
      " -1.80506296e-02  8.71723238e-03  1.71948522e-02 -3.83658498e-03\n",
      " -1.32647632e-02  2.86223134e-03  1.99185014e-02 -4.28255610e-02\n",
      "  1.33261066e-02  3.07962094e-02 -2.42814664e-02  3.12057068e-03\n",
      " -1.19505972e-01 -4.12074700e-02  5.40147088e-02 -1.57688130e-02\n",
      " -7.96950832e-02 -2.20432524e-02  2.32299864e-02 -3.05052903e-02\n",
      " -5.64785488e-03 -9.08620656e-02  9.85122379e-03 -8.26592278e-03\n",
      " -1.43104314e-03  2.40977984e-02  1.22294985e-02 -2.88470853e-02\n",
      " -2.01734435e-02 -2.32789130e-03 -6.84083672e-03 -1.49856359e-02\n",
      " -1.58967022e-02  3.65221873e-02 -5.05637843e-03  1.39299314e-02\n",
      " -9.47920023e-04 -4.88123335e-02 -9.57134459e-03 -1.17800236e-02\n",
      " -1.96020249e-02 -5.78400074e-03 -4.80071781e-03  7.93387145e-02\n",
      "  3.59663926e-02 -3.63527685e-02 -3.65163162e-02 -2.84026321e-02\n",
      " -2.84647383e-02  7.26782391e-03 -4.39705886e-03 -7.52668548e-03\n",
      " -1.53822610e-02 -2.88922898e-03 -2.41690464e-02  2.87479442e-02\n",
      "  1.99037697e-02  3.39731872e-02 -2.43464783e-02 -3.60141583e-02\n",
      "  3.05160023e-02  4.30045426e-02 -1.02604730e-02 -1.09904930e-02\n",
      " -1.32199256e-02  1.07002584e-03  6.43889606e-02  3.98657881e-02\n",
      " -3.35937575e-03 -2.55038124e-02 -2.13912968e-02  2.66113249e-03\n",
      "  3.86352502e-02  2.77377740e-02  5.42948283e-02 -2.85877697e-02\n",
      "  3.00299581e-02 -2.90576760e-02 -9.03854333e-03 -5.43383248e-02\n",
      " -2.85122078e-02  6.13872670e-02  1.20652048e-02 -3.62399674e-04\n",
      " -6.89877123e-02  1.67428330e-03 -3.10782306e-02  1.63751245e-02\n",
      " -8.83188285e-03  7.91145023e-03 -2.65233796e-02 -1.37089128e-02\n",
      " -1.13917934e-02 -2.63514947e-02  2.01414581e-02 -2.21705846e-02\n",
      " -2.46656556e-02 -6.63075373e-02  6.97994456e-02  5.22843422e-03\n",
      "  4.90230583e-02 -2.95038205e-02  3.26806530e-02  2.13817712e-02\n",
      " -5.01682609e-02 -9.48904529e-02 -6.68218061e-02  8.84896331e-03\n",
      " -2.56386306e-02  6.00013509e-02  6.53068442e-03 -6.50119707e-02\n",
      "  4.94341739e-02 -3.25649902e-02  5.21093011e-02  3.53802694e-03\n",
      " -4.71569113e-02  4.10895888e-03  8.10163375e-03  3.74413729e-02\n",
      "  9.29136120e-04  5.44437533e-03  3.06822900e-02 -3.23145799e-02\n",
      "  2.26393268e-02  1.17685730e-02 -7.93732586e-04 -1.21184706e-03\n",
      "  2.61772480e-02 -4.93776724e-02 -1.83933275e-03 -1.15448302e-02\n",
      "  3.25371488e-03  2.73531023e-02 -4.25514504e-02  6.17034100e-02\n",
      " -3.20715681e-02  1.68121401e-02  2.29624659e-02  1.87858250e-02\n",
      "  6.10417279e-04  2.14265995e-02  5.53111173e-02 -3.42145525e-02\n",
      " -6.53536944e-03 -4.53944094e-02 -1.00860717e-02 -7.17123831e-03\n",
      "  2.97360448e-03 -3.22578959e-02  3.34551223e-02  6.06080182e-02\n",
      "  2.13865414e-02  4.83612642e-02  3.64637375e-02 -4.90400195e-02\n",
      " -2.72291177e-03  1.16008911e-02 -4.21286710e-02  3.93104833e-03\n",
      "  1.96426790e-02  5.59575036e-02 -6.38252273e-02  9.47706122e-03\n",
      " -2.31168326e-02  2.58505084e-02  6.99870735e-02 -1.02192461e-01\n",
      " -2.20650509e-02 -7.46192485e-02  6.82808235e-02  5.37136802e-03\n",
      " -2.32375637e-02  7.53550678e-02  1.89607982e-02 -1.34764835e-02\n",
      " -5.43430038e-02 -7.15214312e-02  2.52683256e-02  4.08156030e-02\n",
      " -4.53166962e-02  3.06215719e-04 -8.84365849e-03 -1.28131954e-03\n",
      " -2.75633428e-02  1.42758293e-02 -2.07372084e-02 -1.06156175e-03\n",
      " -6.01489795e-04 -8.91243294e-03 -1.59450304e-02  2.29441263e-02\n",
      "  4.38525304e-02 -1.45787433e-01  1.04710935e-02 -5.62041067e-03\n",
      " -6.04708530e-02 -2.49958504e-02 -8.91644694e-03  8.56479630e-03\n",
      " -1.18052913e-02  1.11763021e-02 -7.66713321e-02 -2.69933585e-02\n",
      "  1.00987442e-02  1.59662385e-02  3.73456851e-02  1.31348046e-02\n",
      "  6.12719804e-02  1.02991173e-02  1.88994184e-02 -1.29451165e-02\n",
      "  3.15832309e-02 -8.19432661e-02 -5.91403581e-02 -1.13019058e-02\n",
      "  2.25689001e-02 -1.51374750e-02  4.44018915e-02  4.40222286e-02\n",
      "  3.19892913e-02  2.42080782e-02 -7.44299684e-03  2.21532360e-02\n",
      " -9.60821006e-03  1.25459454e-03 -4.43946794e-02  5.10810548e-03\n",
      " -4.02423181e-02  2.92481901e-03  1.76269896e-02 -1.25031015e-02\n",
      "  2.95533128e-02  7.69128278e-02 -9.58675966e-02  1.41760092e-02\n",
      "  3.56904678e-02  5.32079637e-02 -1.42749297e-02 -1.78232533e-03\n",
      "  2.70915385e-02 -1.91537756e-02 -5.56520671e-02  3.36596370e-02\n",
      "  8.35245922e-02  1.74505506e-02  1.50148803e-02 -3.66664790e-02\n",
      " -1.87067017e-02  3.11004650e-03  1.86546799e-02 -8.46005883e-03\n",
      " -1.59261972e-02  4.92418781e-02 -2.21253857e-02  3.81299518e-02\n",
      "  1.91046018e-02  1.04467236e-02  5.98507598e-02  1.70793071e-01\n",
      " -2.67997887e-02 -1.37524651e-02 -7.03289211e-02 -1.66321304e-02\n",
      "  3.72436903e-02 -6.23522252e-02 -2.18362622e-02  1.70705188e-02\n",
      "  3.87136289e-03  3.18323858e-02 -1.84017681e-02  5.53881638e-02\n",
      " -2.36743968e-02  3.33887748e-02  2.68095583e-02  3.99868898e-02\n",
      "  4.43951786e-02 -4.49740998e-02  2.34105531e-02  2.56126150e-02\n",
      "  7.72792788e-04  2.03253105e-02 -1.35899242e-02 -1.83430389e-02\n",
      " -8.43338892e-02 -2.04019267e-02  1.92453656e-02 -2.10502315e-02\n",
      "  2.44812742e-02  1.02774682e-03  5.18859737e-02 -1.08519597e-02\n",
      "  6.52013123e-02 -3.06848586e-02 -2.56944429e-02  4.05494906e-02\n",
      " -9.46324971e-03 -2.90524326e-02 -3.96145321e-02  8.88033770e-03\n",
      " -2.73136552e-02 -1.43914513e-04  3.19146365e-02 -2.54810303e-02\n",
      "  7.13553280e-02 -1.05836643e-02 -2.32672412e-02 -1.67791976e-03\n",
      " -2.63012797e-02  1.47694144e-02 -5.68572544e-02  8.27234704e-03\n",
      "  4.10030000e-02 -2.29617227e-02 -4.24556062e-02  5.09324744e-02\n",
      " -3.12629938e-02  3.88223934e-03  6.06124327e-02  1.61320977e-02\n",
      "  8.43586028e-03 -2.63035353e-02 -1.02210725e-02 -2.04418786e-02\n",
      "  3.42093855e-02  1.21837407e-02  1.68656707e-02  6.94250641e-03\n",
      " -5.87961450e-02  1.90650877e-02 -6.74531097e-03  1.57629699e-02\n",
      "  5.10984622e-02  4.29304428e-02  2.75032129e-02 -6.05097301e-02\n",
      "  2.19562743e-02  9.96677554e-04 -3.29520851e-02 -1.72167756e-02\n",
      " -5.79245277e-02  7.77119696e-02 -3.04124989e-02 -3.13242571e-03\n",
      " -4.81091589e-02 -7.39193633e-02  8.74441490e-03 -3.88348997e-02\n",
      " -2.68831626e-02  6.84387982e-02  1.94560960e-02  2.87374929e-02\n",
      "  8.93531088e-03  4.18709330e-02  8.20563827e-03 -1.79851409e-02\n",
      " -4.43375930e-02 -1.25123644e-02 -1.60423946e-02  2.85106413e-02\n",
      " -8.22010450e-03  2.53654849e-02 -5.90118133e-02  3.12278867e-02\n",
      " -7.44271465e-03 -1.79765746e-02 -4.82340381e-02 -2.34342031e-02\n",
      " -8.97824706e-04  1.07815871e-02 -8.35063756e-02 -2.84319073e-02\n",
      " -1.42743001e-02  3.61075415e-03  1.73962712e-02  3.87738086e-02\n",
      " -7.49931671e-03  3.19571309e-02  4.73948643e-02  5.54896109e-02\n",
      "  2.24577356e-03 -1.82445124e-02  1.81816258e-02 -3.36769037e-04\n",
      " -5.11761894e-03 -3.69415595e-03  1.64168794e-03  6.63564354e-02\n",
      " -8.10542668e-04 -3.20856571e-02 -1.84839983e-02  2.23257989e-02\n",
      " -9.52217821e-03 -5.09162508e-02 -4.60507050e-02 -7.79063441e-03\n",
      " -9.66019835e-03  2.96424311e-02 -1.41769779e-04 -2.07899399e-02\n",
      "  2.95770410e-02 -5.86384023e-03  4.07887809e-02  2.18397379e-02\n",
      "  2.06172536e-03 -4.10378911e-02  7.91058782e-03 -1.48029178e-02\n",
      " -1.16107343e-02 -3.98972444e-03  7.50843436e-02 -2.75639445e-02\n",
      "  2.32260451e-02 -2.66129188e-02 -9.72017832e-03  2.10626870e-02\n",
      "  4.59364429e-02 -1.56749617e-02 -6.41945601e-02  1.56516191e-02\n",
      " -1.10680414e-02  5.25658689e-02 -4.97907996e-02 -8.96025728e-03\n",
      " -4.36204346e-03 -4.74698056e-04  9.32128634e-03 -1.59775671e-02\n",
      " -1.09642430e-03 -1.92483068e-02 -2.59406026e-02 -5.59827238e-02\n",
      "  8.81997123e-02  6.42957017e-02  1.58731006e-02 -1.17271850e-02\n",
      " -1.13786990e-02  1.09325154e-02 -9.61800218e-02  2.42875330e-02\n",
      " -2.22020526e-03 -2.81590074e-02  6.04615360e-03 -1.43464189e-02\n",
      " -3.54137495e-02 -1.39096787e-03  2.61793542e-03  3.69479284e-02\n",
      "  4.46851412e-03  1.75223887e-01 -3.51330987e-03  4.37442958e-02\n",
      "  2.44152844e-02 -2.88486527e-03  2.19489913e-02 -2.91046333e-02\n",
      " -7.37826573e-03 -3.23520042e-02 -4.53716889e-02  6.16694354e-02\n",
      "  1.45211359e-02  4.42586048e-03  4.99697961e-02  2.74569914e-02\n",
      " -1.73466653e-02  4.18285020e-02 -3.06793265e-02  2.25379039e-02\n",
      " -6.35972386e-03 -5.74274175e-03  6.46631196e-02  1.02047790e-02\n",
      "  3.97989787e-02  3.90901007e-02 -5.79372561e-03 -2.92031150e-02\n",
      " -6.84636086e-02  4.55350848e-03 -4.51343581e-02 -5.50538525e-02\n",
      "  5.43216504e-02  3.95292901e-02  8.45600199e-03 -2.36967634e-02\n",
      " -2.28818096e-02  5.79948956e-03  5.26954085e-02 -1.05659198e-02\n",
      "  1.36438394e-02 -6.60682376e-03  1.32650556e-03 -3.37477960e-02\n",
      " -2.95498990e-03  5.69121493e-03 -6.54631993e-03 -1.25583913e-02\n",
      "  3.29114348e-02 -3.98054644e-02  2.43848506e-02 -2.66664047e-02\n",
      "  1.23742595e-02 -5.12711741e-02  1.22275632e-02 -4.58161496e-02\n",
      " -5.44181168e-02  4.05682111e-03 -2.82312185e-02  2.78540421e-02\n",
      " -4.58840700e-03 -2.14310475e-02  1.05398335e-02 -8.14095587e-02\n",
      " -1.66413176e-03  5.25790527e-02  1.57483090e-02  1.50610823e-02\n",
      " -2.96453089e-02  3.70797180e-02  6.09471053e-02  1.25553571e-02\n",
      "  6.41213655e-02  3.47748175e-02  3.87220308e-02 -2.08999757e-02\n",
      " -6.47014752e-02  3.13523114e-02  1.29922070e-02 -1.13527486e-02\n",
      " -7.85256457e-03 -8.56394530e-04  3.44097689e-02 -7.93563500e-02\n",
      "  4.21936773e-02 -1.72716565e-02  2.29551643e-02  9.77032259e-02\n",
      " -5.89212887e-02 -6.99668899e-02  3.66736539e-02  1.02504166e-02\n",
      "  4.61693518e-02  5.58632910e-02  2.77679972e-02  5.57635762e-02\n",
      "  7.45755446e-04  2.61768159e-02  2.92354375e-02 -1.32220723e-02\n",
      " -5.43046035e-02  5.68258837e-02  8.52551758e-02 -4.50955294e-02\n",
      "  1.90155040e-02  8.88217706e-03 -5.42368479e-02 -1.09603070e-02\n",
      "  2.02911068e-02 -3.31880599e-02 -3.19157820e-03 -5.57077155e-02\n",
      "  1.31976781e-02 -1.76147446e-02  2.79941950e-02  4.70846817e-02\n",
      "  1.20120943e-02  3.17018144e-02 -8.02490767e-03 -5.97755648e-02\n",
      " -3.07060909e-02  5.88004179e-02 -1.46478740e-02  1.97959300e-02\n",
      " -2.49053072e-02  6.64493814e-02 -3.11577367e-03 -3.81828845e-02\n",
      "  3.53849423e-03  2.42436565e-02 -2.75821295e-02  4.32775207e-02\n",
      "  6.66862959e-03  9.93176550e-03  4.55734367e-03 -4.50640880e-02\n",
      "  1.99370179e-02 -2.86514740e-02 -8.38177744e-03 -9.73999724e-02\n",
      "  3.91354486e-02  1.49220536e-02 -3.43130417e-02 -2.26844978e-02\n",
      "  2.18078345e-02  9.50833131e-03  9.08797905e-02  8.26117862e-03\n",
      " -4.22098488e-02  2.71829236e-02  1.01908676e-01 -4.07020561e-02\n",
      "  1.56724099e-02 -1.19905071e-02  6.34373277e-02 -2.05533113e-02\n",
      "  1.57531053e-02 -1.15237469e-02  1.37041206e-03  4.50301729e-02\n",
      " -1.10175181e-03  3.41274701e-02 -1.64959598e-02 -7.64305424e-03\n",
      "  1.49840920e-03  3.76703031e-02 -1.13148836e-03 -3.55880745e-02\n",
      " -6.39302703e-03 -3.91529920e-03  2.70314887e-02 -2.39930656e-02\n",
      "  2.65169218e-02 -6.10673726e-02 -2.17152536e-02  2.87457984e-02\n",
      " -3.02756652e-02 -4.35434543e-02  3.41216568e-03 -3.35724317e-02\n",
      " -1.51849184e-02 -2.21853126e-02  1.94617826e-02  2.00991072e-02\n",
      "  2.92638969e-02  1.10686906e-02  5.35711497e-02  2.04873309e-02\n",
      "  2.61067711e-02  2.55956710e-03 -1.21932467e-02 -1.60565786e-02\n",
      "  1.86500251e-02 -4.18067314e-02 -6.64362637e-03 -5.52315451e-02\n",
      " -1.21988924e-02  2.26353090e-02 -2.91717257e-02 -4.16852068e-03\n",
      " -3.59525383e-02 -6.38636053e-02 -4.10855897e-02  1.38895558e-02\n",
      " -1.51542267e-02  1.35681657e-02  1.63108204e-02  1.80697199e-02\n",
      "  1.78284887e-02 -7.47980271e-03  7.25193992e-02  1.94522273e-02\n",
      " -6.92107752e-02  6.76185340e-02 -1.33711323e-02 -6.73812581e-03\n",
      "  1.83454119e-02  3.01379198e-03 -5.78908883e-02  1.77169708e-03\n",
      " -6.77797338e-03 -2.47392822e-02  5.27708083e-02  1.40114315e-02\n",
      "  4.00668867e-02  6.35459200e-02  1.00044056e-03 -3.35324835e-03\n",
      " -6.92510279e-03 -2.79394221e-02 -1.37172667e-02 -2.23078169e-02\n",
      "  2.67486870e-02 -5.15922531e-03 -1.79361440e-02 -2.68132947e-02\n",
      " -7.47752725e-04  3.36303213e-03  2.87528466e-02 -3.75522114e-03\n",
      " -3.10320500e-02 -3.36407907e-02 -9.19651892e-03 -1.39006870e-02\n",
      " -2.90519502e-02  3.27309743e-02 -1.25866262e-02  7.14764604e-03\n",
      " -7.40401633e-03  3.33463885e-02  7.44481571e-03  6.36146292e-02\n",
      "  9.67790838e-03 -7.68939406e-02 -5.09129465e-02  8.45474470e-03\n",
      " -3.97830568e-02 -2.50717402e-02  1.35177365e-02 -2.62753386e-02\n",
      "  2.26598661e-02  3.23822186e-03  2.57570297e-02  2.40869075e-02\n",
      " -3.75218466e-02 -7.50615727e-03  9.01505630e-03 -1.74296647e-03\n",
      " -2.66651008e-02  6.00260608e-02  4.51424010e-02 -1.77090503e-02\n",
      " -2.33653355e-02  4.40616067e-03  1.41693177e-02 -2.78564263e-02\n",
      " -5.78137999e-03  3.58613655e-02  7.93747662e-04 -1.10536860e-02\n",
      "  2.78690718e-02  3.11922841e-02 -3.97524983e-02 -3.87416817e-02\n",
      "  4.20809388e-02 -1.86314825e-02  4.87758294e-02 -5.07482439e-02\n",
      " -2.22521387e-02  3.89002077e-02  1.62194055e-02 -2.16268022e-02\n",
      "  6.64710253e-02  3.54293324e-02 -1.24301808e-02 -4.71839085e-02\n",
      " -3.92835438e-02 -2.64768917e-02 -5.08527644e-02 -1.69472340e-02\n",
      "  1.53153185e-02 -1.82158891e-02  2.18321234e-02  7.35265464e-02\n",
      " -9.84857418e-03 -1.47372372e-02 -3.96077707e-02  4.63272780e-02\n",
      "  1.73047688e-02  1.84395406e-02 -7.26222293e-03 -1.01648336e-02\n",
      " -6.12735050e-03 -5.81070222e-02 -3.50118205e-02 -3.30973528e-02]\n"
     ]
    }
   ],
   "source": [
    "for key, value in embedding_dict.items():\n",
    "    print(f\"Embedding for '{key}': {value}\")\n",
    "    break"
   ]
  },
  {
   "cell_type": "code",
   "execution_count": null,
   "metadata": {},
   "outputs": [],
   "source": []
  }
 ],
 "metadata": {
  "kernelspec": {
   "display_name": "venv_sp",
   "language": "python",
   "name": "python3"
  },
  "language_info": {
   "codemirror_mode": {
    "name": "ipython",
    "version": 3
   },
   "file_extension": ".py",
   "mimetype": "text/x-python",
   "name": "python",
   "nbconvert_exporter": "python",
   "pygments_lexer": "ipython3",
   "version": "3.11.5"
  },
  "orig_nbformat": 4,
  "vscode": {
   "interpreter": {
    "hash": "ae0ac559731335aff7428fbda524c3efdf1a1efb7826d19e5e609e871f4874b5"
   }
  }
 },
 "nbformat": 4,
 "nbformat_minor": 2
}
