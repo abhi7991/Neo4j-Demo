{
 "cells": [
  {
   "cell_type": "code",
   "execution_count": 2,
   "id": "59d43c07-e244-4569-89fd-4aab94e9d403",
   "metadata": {},
   "outputs": [],
   "source": [
    "# -*- coding: utf-8 -*-\n",
    "\"\"\"\n",
    "Created on Sun Apr 14 09:10:01 2024\n",
    "\n",
    "@author: abhis\n",
    "\"\"\"\n",
    "\n",
    "from langchain_community.graphs import Neo4jGraph\n",
    "import matplotlib.pyplot as plt    \n",
    "import pandas as pd\n",
    "from neo4j import GraphDatabase\n",
    "import os\n",
    "import time   \n",
    "import pandas as pd\n",
    "from neo4j import GraphDatabase\n",
    "import os\n",
    "import time\n",
    "from graphdatascience import GraphDataScience\n",
    "wd = os.getcwd()\n",
    "from dotenv import load_dotenv\n",
    "load_dotenv()\n",
    "database = os.environ.get('NEO4J_DATABASE')\n",
    "gds = GraphDataScience(\n",
    "    os.environ.get('NEO4J_URI'),\n",
    "    auth = (os.environ.get('NEO4J_USERNAME'),os.environ.get('NEO4J_PASSWORD')),database = database\n",
    ")       \n",
    "OPENAI_API_KEY = os.getenv('OPENAI_API_KEY')\n",
    "OPENAI_ENDPOINT = os.getenv('OPENAI_BASE_URL') + '/embeddings'\n",
    "kg = Neo4jGraph(\n",
    "    url=os.environ.get('NEO4J_URI'), username=os.environ.get('NEO4J_USERNAME'), password=os.environ.get('NEO4J_PASSWORD'), database=database\n",
    ")"
   ]
  },
  {
   "cell_type": "code",
   "execution_count": 3,
   "id": "358ebf39-9260-4eee-a69c-5a0332083f2b",
   "metadata": {},
   "outputs": [
    {
     "data": {
      "text/html": [
       "<div>\n",
       "<style scoped>\n",
       "    .dataframe tbody tr th:only-of-type {\n",
       "        vertical-align: middle;\n",
       "    }\n",
       "\n",
       "    .dataframe tbody tr th {\n",
       "        vertical-align: top;\n",
       "    }\n",
       "\n",
       "    .dataframe thead th {\n",
       "        text-align: right;\n",
       "    }\n",
       "</style>\n",
       "<table border=\"1\" class=\"dataframe\">\n",
       "  <thead>\n",
       "    <tr style=\"text-align: right;\">\n",
       "      <th></th>\n",
       "    </tr>\n",
       "  </thead>\n",
       "  <tbody>\n",
       "  </tbody>\n",
       "</table>\n",
       "</div>"
      ],
      "text/plain": [
       "Empty DataFrame\n",
       "Columns: []\n",
       "Index: []"
      ]
     },
     "execution_count": 3,
     "metadata": {},
     "output_type": "execute_result"
    }
   ],
   "source": [
    "\n",
    "#%%\n",
    "\n",
    "try:\n",
    "    gds.run_cypher(\"DROP INDEX overview_embeddings\")\n",
    "except:\n",
    "    print(\"No index to drop\")\n",
    "query_index = (\n",
    "            \"CREATE VECTOR INDEX overview_embeddings \"\n",
    "            \"FOR (m: Movie) ON (m.embedding) \"\n",
    "            \"OPTIONS {indexConfig: { \"\n",
    "            \"`vector.dimensions`: 1536, \"\n",
    "            \"`vector.similarity_function`: 'cosine'}}\"\n",
    "        )            \n",
    "        \n",
    "gds.run_cypher(query_index)   "
   ]
  },
  {
   "cell_type": "code",
   "execution_count": 5,
   "id": "48ad40d3-dd92-4758-bbce-42a482b6257a",
   "metadata": {},
   "outputs": [
    {
     "name": "stdout",
     "output_type": "stream",
     "text": [
      "                                              vector\n",
      "0  [-0.013783346861600876, -0.04526415094733238, ...\n",
      "1  [0.01771734282374382, -0.03553897887468338, -0...\n",
      "TIME TAKEN FOR Generating embeddings : 0.6638326644897461\n"
     ]
    }
   ],
   "source": [
    "start_time = time.time()\n",
    "node = \"\"\"\n",
    "MATCH (movie:Movie) WHERE movie.overview IS NOT NULL\n",
    "WITH movie, genai.vector.encode(\n",
    "    movie.overview, \n",
    "    \"OpenAI\", \n",
    "    {\n",
    "      token: $openAiApiKey,\n",
    "      endpoint: $openAiEndpoint\n",
    "    }) AS vector\n",
    "CALL db.create.setNodeVectorProperty(movie, \"overview_embeddings\", vector) \n",
    "return vector;\n",
    "\"\"\"\n",
    "\n",
    "result = gds.run_cypher(node, params={\"openAiApiKey\": OPENAI_API_KEY, \"openAiEndpoint\": OPENAI_ENDPOINT})\n",
    "print(result)\n",
    "print(\"TIME TAKEN FOR Generating embeddings :\",time.time() - start_time)"
   ]
  },
  {
   "cell_type": "code",
   "execution_count": null,
   "id": "daa96d6b-2f09-43ad-aeb8-9ea9bd072159",
   "metadata": {},
   "outputs": [],
   "source": []
  }
 ],
 "metadata": {
  "kernelspec": {
   "display_name": "Python 3 (ipykernel)",
   "language": "python",
   "name": "python3"
  },
  "language_info": {
   "codemirror_mode": {
    "name": "ipython",
    "version": 3
   },
   "file_extension": ".py",
   "mimetype": "text/x-python",
   "name": "python",
   "nbconvert_exporter": "python",
   "pygments_lexer": "ipython3",
   "version": "3.8.18"
  }
 },
 "nbformat": 4,
 "nbformat_minor": 5
}
